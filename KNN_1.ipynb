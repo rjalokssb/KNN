{
  "nbformat": 4,
  "nbformat_minor": 0,
  "metadata": {
    "colab": {
      "provenance": []
    },
    "kernelspec": {
      "name": "python3",
      "display_name": "Python 3"
    },
    "language_info": {
      "name": "python"
    }
  },
  "cells": [
    {
      "cell_type": "markdown",
      "source": [
        "Q1. What is the KNN algorithm?"
      ],
      "metadata": {
        "id": "FlZoyTltYMNV"
      }
    },
    {
      "cell_type": "code",
      "execution_count": null,
      "metadata": {
        "id": "mkYSLU9AYJx4"
      },
      "outputs": [],
      "source": [
        "KNN (K-Nearest Neighbors) is a non-parametric machine learning algorithm used for classification and regression. It works based on the principle of similarity, where the assumption is that similar things are likely to be in the same class or have similar properties. "
      ]
    },
    {
      "cell_type": "markdown",
      "source": [
        "Q2. How do you choose the value of K in KNN?"
      ],
      "metadata": {
        "id": "OVq_MRldYQHy"
      }
    },
    {
      "cell_type": "code",
      "source": [
        "# Grid Search\n",
        "# Cross-Validation\n",
        "# Rule of Thumb"
      ],
      "metadata": {
        "id": "yUoRFnswYQuk"
      },
      "execution_count": null,
      "outputs": []
    },
    {
      "cell_type": "markdown",
      "source": [
        "Q3. What is the difference between KNN classifier and KNN regressor?"
      ],
      "metadata": {
        "id": "-FdY-ln5YSFV"
      }
    },
    {
      "cell_type": "code",
      "source": [
        "# KNN classifier is used for classification problems, where the goal is to assign a class label to a new data point based on its similarity to the data points in the training set. \n",
        "\n",
        "# KNN regressor is used for regression problems, where the goal is to predict a continuous output variable based on the values of the input variables. "
      ],
      "metadata": {
        "id": "ZszFamBRYS1l"
      },
      "execution_count": null,
      "outputs": []
    },
    {
      "cell_type": "markdown",
      "source": [
        "Q4. How do you measure the performance of KNN?"
      ],
      "metadata": {
        "id": "-apjjg6-YTME"
      }
    },
    {
      "cell_type": "code",
      "source": [
        "# Classification\n",
        "Accuracy\n",
        "Precision\n",
        "Recall\n",
        "F1-score\n",
        "\n",
        "# Regression\n",
        "MSE\n",
        "RMSE\n",
        "MAE"
      ],
      "metadata": {
        "id": "bOFFfSZWYVB0"
      },
      "execution_count": null,
      "outputs": []
    },
    {
      "cell_type": "markdown",
      "source": [
        "Q5. What is the curse of dimensionality in KNN?"
      ],
      "metadata": {
        "id": "a6dW5mZrYVPN"
      }
    },
    {
      "cell_type": "code",
      "source": [
        "In KNN, this can result in two problems. First, as the number of dimensions increases, the distance between data points becomes less informative, making it harder to find the nearest neighbors accurately. Second, as the number of dimensions increases, the number of data points required to cover the feature space becomes exponentially large, making the algorithm computationally expensive and impractical."
      ],
      "metadata": {
        "id": "7-cgRvVhYX0W"
      },
      "execution_count": null,
      "outputs": []
    },
    {
      "cell_type": "markdown",
      "source": [
        "Q6. How do you handle missing values in KNN?"
      ],
      "metadata": {
        "id": "xOC_HJN_YYMd"
      }
    },
    {
      "cell_type": "code",
      "source": [
        "# Deleting rows\n",
        "# Imputation\n",
        "# Feature engineering"
      ],
      "metadata": {
        "id": "ButkUYzcYZ0N"
      },
      "execution_count": null,
      "outputs": []
    },
    {
      "cell_type": "markdown",
      "source": [
        "Q7. Compare and contrast the performance of the KNN classifier and regressor. Which one is better for\n",
        "which type of problem?"
      ],
      "metadata": {
        "id": "f2dtMxidYaKm"
      }
    },
    {
      "cell_type": "code",
      "source": [
        "# The performance of the KNN classifier and regressor depends on the specific problem and the characteristics of the data. Here are some general comparisons:\n",
        "Complexity\n",
        "Type of output\n",
        "Performance metrics"
      ],
      "metadata": {
        "id": "-nimPVTQYahN"
      },
      "execution_count": null,
      "outputs": []
    },
    {
      "cell_type": "markdown",
      "source": [
        "Q8. What are the strengths and weaknesses of the KNN algorithm for classification and regression tasks,\n",
        "and how can these be addressed?"
      ],
      "metadata": {
        "id": "zmAJQpgnYb6F"
      }
    },
    {
      "cell_type": "code",
      "source": [
        "# Strengths \n",
        "Simple to implement\n",
        "Non-parametric\n",
        "Flexibility\n",
        "Interpretability\n",
        "\n",
        "# Weaknesses \n",
        "Computationally expensive\n",
        "Sensitive to noise\n",
        "Curse of dimensionality\n",
        "Choice of K"
      ],
      "metadata": {
        "id": "noHTzMDUYcSl"
      },
      "execution_count": null,
      "outputs": []
    },
    {
      "cell_type": "markdown",
      "source": [
        "Q9. What is the difference between Euclidean distance and Manhattan distance in KNN?"
      ],
      "metadata": {
        "id": "lqqEpURuYcr9"
      }
    },
    {
      "cell_type": "code",
      "source": [
        "# Euclidean distance measures the shortest distance between two points in a straight line\n",
        "d = sqrt((x2 - x1)^2 + (y2 - y1)^2)\n",
        "\n",
        "#  Manhattan distance measures the distance between two points by summing the absolute differences in each dimension.\n",
        "d = |x2 - x1| + |y2 - y1|"
      ],
      "metadata": {
        "id": "85Bno-ilYeIF"
      },
      "execution_count": null,
      "outputs": []
    },
    {
      "cell_type": "markdown",
      "source": [
        "Q10. What is the role of feature scaling in KNN?"
      ],
      "metadata": {
        "id": "P16bR1LLYeaG"
      }
    },
    {
      "cell_type": "code",
      "source": [
        "# Feature scaling is an important step in the preprocessing of data for the KNN algorithm. The reason for this is that the distance metric used in KNN is sensitive to the scale of the features, meaning that features with larger scales may dominate the distance calculations and have a greater influence on the prediction than features with smaller scales. This can lead to poor performance of the algorithm."
      ],
      "metadata": {
        "id": "MoBfvRACYfjO"
      },
      "execution_count": null,
      "outputs": []
    }
  ]
}